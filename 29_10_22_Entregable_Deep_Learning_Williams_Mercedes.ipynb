{
 "cells": [
  {
   "cell_type": "markdown",
   "id": "e0ff301b-5595-4a0b-a2b8-3d5609a0485d",
   "metadata": {
    "id": "e0ff301b-5595-4a0b-a2b8-3d5609a0485d"
   },
   "source": [
    "##**Diplomatura en Ciencia de Datos, Aprendizaje Automático y sus Aplicaciones**\n",
    "\n",
    "##**Aprendizaje Automático Profundo (Deep Learning)**\n",
    "\n",
    "*Edición 2022*\n",
    "\n",
    "\n",
    "**Integrantes:**\n",
    "\n",
    "\n",
    "M Mercedes Silva\n",
    "\n",
    "Williams Gremoliche\n",
    "\n",
    "\n",
    "----\n",
    "\n"
   ]
  },
  {
   "cell_type": "markdown",
   "id": "nlWRYKOSpl9q",
   "metadata": {
    "id": "nlWRYKOSpl9q"
   },
   "source": [
    "## Ejercicio:\n",
    "Implementar una red neuronal que asigne una categoría dado un título.\n",
    "Para este práctico se puede usar cualquier tipo de red neuronal. Les que hagan solo la primera mitad de la materia,\n",
    "implementarán un MLP. Quienes cursan la materia completa, deberían implementar algo más complejo, usando CNNs,\n",
    "RNNs o Transformers.\n",
    "\n",
    "Algunas consideraciones a tener en cuenta para estructurar el trabajo:\n",
    "\n",
    "\n",
    "\n",
    "1.   Hacer un preprocesamiento de los datos (¿Cómo vamos a representar los datos de entrada y las categorías?).\n",
    "2.   Tener un manejador del dataset (alguna clase o función que nos divida los datos en batches).\n",
    "3.   Crear una clase para el modelo que se pueda instanciar con diferentes hiperparámetros\n",
    "4.   Hacer logs de entrenamiento (reportar tiempo transcurrido, iteraciones/s, loss, accuracy, etc.). Usar MLFlow.\n",
    "5.   Hacer un gráfico de la función de loss a lo largo de las epochs. MLFlow también puede generar la gráfica.\n",
    "6.   Reportar performance en el conjunto de test con el mejor modelo entrenado. La métrica para reportar será balanced accuracy (Macro-recall)."
   ]
  },
  {
   "cell_type": "code",
   "execution_count": 2,
   "id": "ubxcga2ds_-j",
   "metadata": {
    "id": "ubxcga2ds_-j"
   },
   "outputs": [
    {
     "name": "stderr",
     "output_type": "stream",
     "text": [
      "[nltk_data] Downloading package stopwords to\n",
      "[nltk_data]     /users/wgremoliche/nltk_data...\n",
      "[nltk_data]   Package stopwords is already up-to-date!\n"
     ]
    }
   ],
   "source": [
    "#010 Importacion de librerias\n",
    "import gzip\n",
    "import mlflow\n",
    "import pandas as pd\n",
    "import tempfile\n",
    "import torch \n",
    "import torch.optim as optim\n",
    "import torch.nn as nn\n",
    "import torch.nn.functional as F\n",
    "from torch.utils.data import Dataset, DataLoader, IterableDataset\n",
    "import json\n",
    "import nltk\n",
    "import seaborn as sns\n",
    "import matplotlib.pyplot as plt\n",
    "import bz2\n",
    "\n",
    "#import spacy\n",
    "#from spacy.lang.es.examples import sentences\n",
    "\n",
    "from gensim import corpora\n",
    "from gensim.parsing import preprocessing\n",
    "from nltk.corpus import stopwords\n",
    "from nltk.tokenize import word_tokenize\n",
    "from sklearn.model_selection import train_test_split\n",
    "from sklearn.utils import shuffle\n",
    "from sklearn.metrics import balanced_accuracy_score, recall_score\n",
    "\n",
    "from tqdm.notebook import tqdm, trange\n",
    "from datetime import datetime as dt\n",
    "\n",
    "import gc\n",
    "\n",
    "nltk.download(\"stopwords\")\n",
    "\n",
    "tqdm.pandas()"
   ]
  },
  {
   "cell_type": "code",
   "execution_count": 3,
   "id": "7a42635d",
   "metadata": {},
   "outputs": [],
   "source": [
    "#ya lo bajamos\n",
    "# Descargamos los datasets\n",
    "#!curl -L https://cs.famaf.unc.edu.ar/\\~ccardellino/resources/diplodatos/meli-challenge-2019.tar.bz2 -o ./data/meli-challenge-2019.tar.bz2\n",
    "#!tar jxvf ./data/meli-challenge-2019.tar.bz2 -C ./data/"
   ]
  },
  {
   "cell_type": "markdown",
   "id": "0Iont9E2Twmg",
   "metadata": {
    "id": "0Iont9E2Twmg"
   },
   "source": [
    "##Descarga de datos Meli Challenge 2019"
   ]
  },
  {
   "cell_type": "code",
   "execution_count": 4,
   "id": "1-zFmuBdtqsz",
   "metadata": {
    "id": "1-zFmuBdtqsz"
   },
   "outputs": [
    {
     "data": {
      "application/vnd.jupyter.widget-view+json": {
       "model_id": "e4b776c316364a3390fe782a6bd16941",
       "version_major": 2,
       "version_minor": 0
      },
      "text/plain": [
       "  0%|          | 0/3 [00:00<?, ?it/s]"
      ]
     },
     "metadata": {},
     "output_type": "display_data"
    },
    {
     "data": {
      "text/plain": [
       "(4895280, 1223820, 63680)"
      ]
     },
     "execution_count": 4,
     "metadata": {},
     "output_type": "execute_result"
    }
   ],
   "source": [
    "#020 Descarga de datos\n",
    "for i in trange(3):\n",
    "    df_train = pd.read_json(\n",
    "        './data/meli-challenge-2019/spanish.train.jsonl.gz', lines=True)\n",
    "    df_validation = pd.read_json(\n",
    "        './data/meli-challenge-2019/spanish.validation.jsonl.gz',lines=True)\n",
    "    df_test = pd.read_json(\n",
    "        './data/meli-challenge-2019/spanish.test.jsonl.gz',lines=True)\n",
    "\n",
    "len(df_train), len(df_validation), len(df_test)"
   ]
  },
  {
   "cell_type": "code",
   "execution_count": 5,
   "id": "g5J_tGeEtp31",
   "metadata": {
    "id": "g5J_tGeEtp31"
   },
   "outputs": [
    {
     "name": "stdout",
     "output_type": "stream",
     "text": [
      "Train: 489528 - Validation: 122382 - Test: 63680\n"
     ]
    }
   ],
   "source": [
    "#030 train_test_split\n",
    "\n",
    "use_sampler = True\n",
    "if use_sampler:\n",
    "    df_train = shuffle(df_train, random_state=0)\n",
    "    data_train, df = train_test_split(df_train, train_size = 0.10, random_state = 0, stratify = df_train.category)\n",
    "    df_validation = shuffle(df_validation, random_state=0)\n",
    "    data_validation, df =  train_test_split(df_validation, train_size = 0.10, random_state = 0, stratify = df_validation.category)\n",
    "    data_train_val = pd.concat([data_train, data_validation], ignore_index=True)[['title','category','split']]\n",
    "    train_size, validation_size, test_size = len(data_train), len(data_validation), len(df_test)\n",
    "    print(f'Train: {train_size} - Validation: {validation_size} - Test: {test_size}')\n",
    "else:    \n",
    "    data_train_val = pd.concat([df_train, df_validation], ignore_index=True)[['title','category','split']]\n",
    "    train_size, validation_size, test_size = len(df_train), len(df_validation), len(df_test)\n",
    "    print(f'Train: {train_size} - Validation: {validation_size} - Test: {test_size}')\n"
   ]
  },
  {
   "cell_type": "code",
   "execution_count": 6,
   "id": "_0XtMctuz-SI",
   "metadata": {
    "id": "_0XtMctuz-SI"
   },
   "outputs": [],
   "source": [
    "#040 liberamos memoria\n",
    "del df\n",
    "del df_train\n",
    "del df_validation\n",
    "del df_test # después lo cargamos de nuevo al momento de probar el modelo final"
   ]
  },
  {
   "cell_type": "code",
   "execution_count": 7,
   "id": "36200d7d",
   "metadata": {},
   "outputs": [],
   "source": [
    "# Descargamos word embeddings, lo corremos una vez\n",
    "#!curl -L https://cs.famaf.unc.edu.ar/~ccardellino/SBWCE/SBW-vectors-300-min5.txt.bz2 -o ./data/SBW-vectors-300-min5.txt.bz2"
   ]
  },
  {
   "cell_type": "markdown",
   "id": "hTXixiKOTFBw",
   "metadata": {
    "id": "hTXixiKOTFBw"
   },
   "source": [
    "## Dataset\n",
    "Se crearon dos clases dataset, una para levantar todos los datos del lote y otra que lo hace en forma iterable"
   ]
  },
  {
   "cell_type": "code",
   "execution_count": 8,
   "id": "MQqFnIa4wERv",
   "metadata": {
    "id": "MQqFnIa4wERv"
   },
   "outputs": [],
   "source": [
    "#050 creacion del dataset\n",
    "class MeLiChallengeDataset(Dataset):\n",
    "    def __init__(self, path, transform=None):\n",
    "#         self.dataset = pd.read_json(path, lines=True)\n",
    "        self.dataset = path\n",
    "        self.transform = transform\n",
    "    \n",
    "    def __len__(self):\n",
    "        return self.dataset.shape[0]\n",
    "\n",
    "    def __getitem__(self, item):\n",
    "        if torch.is_tensor(item):\n",
    "            item = item.tolist()  # Deal with list of items instead of tensor\n",
    "        \n",
    "        item = {\n",
    "            'data': self.dataset.iloc[item]['title'],\n",
    "            'target': self.dataset.iloc[item]['category']\n",
    "        }\n",
    "\n",
    "        if self.transform:\n",
    "            item = self.transform(item)\n",
    "        \n",
    "        return item"
   ]
  },
  {
   "cell_type": "code",
   "execution_count": 9,
   "id": "TIukElN8wOys",
   "metadata": {
    "id": "TIukElN8wOys"
   },
   "outputs": [],
   "source": [
    "#060 creacion del dataset para iterar\n",
    "\n",
    "class MeLiChallengeiterDataset(IterableDataset):\n",
    "    def __init__(self, path, transform=None):\n",
    "        self.dataset_path = path\n",
    "        self.transform = transform\n",
    "\n",
    "    def __iter__(self):\n",
    "        with gzip.open(self.dataset_path, \"rt\") as fh:\n",
    "            for l in fh:\n",
    "                data = json.loads(l)\n",
    "                item = {\n",
    "                    \"data\": data['title'],\n",
    "                    \"target\": data['category']\n",
    "                }\n",
    "                \n",
    "                if self.transform:\n",
    "                    yield self.transform(item)\n",
    "                else:\n",
    "                    yield item\n"
   ]
  },
  {
   "cell_type": "code",
   "execution_count": null,
   "id": "5398ad39",
   "metadata": {
    "id": "5398ad39"
   },
   "outputs": [],
   "source": []
  },
  {
   "cell_type": "markdown",
   "id": "NB0YKimgUgzy",
   "metadata": {
    "id": "NB0YKimgUgzy"
   },
   "source": [
    "Dados los tiempos y el poder de procesamiento disponible utilizaremos 10% datos de los 4895280 disponibles.\n",
    "Se estima que aumentando este valor se mejorarian las metricas de los modelos propuestos.\n",
    "\n",
    "El set de datos tiene 10 columnas, estas son:\n",
    "\n",
    "**language:** Lenguaje\n",
    "\n",
    "**label_quality:** calidad de etiqueta\n",
    "\n",
    "**title:** titulo\n",
    "\n",
    "**category:** categoría\n",
    "\n",
    "**split:** train, test, etc\n",
    "\n",
    "**tokenized_title:** titulo separado palabra por palabra\n",
    "\n",
    "**data:** tokenized_title convertido a numeración\n",
    "\n",
    "**target:** variable objetivo\n",
    "\n",
    "**n_labels:** número de etiquetas posibles\n",
    "\n",
    "**size:** tamaño\n",
    "\n",
    "\n"
   ]
  },
  {
   "cell_type": "markdown",
   "id": "-TzZzMNdhv0L",
   "metadata": {
    "id": "-TzZzMNdhv0L"
   },
   "source": [
    "El set de entrenamiento original tiene 4895280 registros con valores no nulos y 10 columnas.\n",
    "\n",
    "Las columnas son: language: El idioma del dataset (españor o portugués). En el trabajo práctico utilizaremos solamente el dataset es español. label_quality: Calidad de la etiqueta (confiable o no confiable). Se dispone de 4508043 registros no confiables y 387237 registros confiables. title: El título que se asignó al producto. category: La categoría que se asignó al producto. split: El tipo de dataset. train para el set de entrenamiento. tokenized_title: El título tokenizado. Esto significa que los datos fueron preprocesados. data: El número asignado a cada palabra del título tokenizado. Esta información es la que se utilizará para entrenar el modelo. target: El número que corresponde a cada categoría. n_labels: Cantidad de etiquetas numéricas correspondientes a las distintas categorías. 632 etiquetas (0 a 631) para el caso del set de entrenamiento. size: La cantidad de registros. 4895280 registros para el caso del set de entrenamiento.\n",
    "\n",
    "El set de prueba original tiene 63680 registros con valores no nulos y 10 columnas.\n",
    "\n",
    "Las columnas son iguales: Difieren en: split: El tipo de dataset. test para el set de prueba. size: La cantidad de registros. 63680 registros para el caso del set de prueba.\n",
    "\n",
    "El set de validación original tiene 1223820 registros con valores no nulos y 10 columnas.\n",
    "\n",
    "Las columnas son iguales.\n",
    "\n",
    "El archivo spanish_token_to_index tiene las 50002 correspondencias que existen entre las palabras tokenizadas del título y las etiquetas numéricas bajo la columna data en los sets de entrenamiento, prueba y validación."
   ]
  },
  {
   "cell_type": "markdown",
   "id": "7R_6NjfyXRv2",
   "metadata": {
    "id": "7R_6NjfyXRv2"
   },
   "source": [
    "## Preprocesamiento\n",
    "Vamos a transformar los datos, se va a preprocesar el texto (i.e. normalizarlo) y transformará las palabras en índices de un diccionario para luego poder pasar una secuencia de palabras para buscar en la matriz de embeddings y así permitir mayor manipulación de los embeddings"
   ]
  },
  {
   "cell_type": "markdown",
   "id": "8OLXm-TaxFQs",
   "metadata": {
    "id": "8OLXm-TaxFQs"
   },
   "source": [
    "\n",
    "\n",
    "---\n",
    "\n",
    "El preprocesamiento de los títulos se realizó utilizando las librerías Gensim y NLTK. Las tareas se ejecutan en el siguiente orden:\n",
    "\n",
    "Transformar todas las cadenas en minúsculas\n",
    "Eliminar etiquetas de código del tipo ,\n",
    "Separar por un espacio de cadenas alfanuméricas\n",
    "Reemplazar signos de puntuación ASCII por espacios\n",
    "Eliminar cualquier otro caracter que no sea letras o númemros\n",
    "Remover espacios múltiples\n",
    "Eliminar dígitos numéricos\n",
    "Descartar las cadenas de longitud menor a 3\n",
    "Una vez generado el diccionario de palabras, se eliminan de este las palabras vacías (o stopwords) del listado predefinido para español en la librería NLTK. Esto es para propiciar que en diccionario aparezcan palabras que puedan aportar información relevante. Luego, se incluyen dos tokens especiales. Uno para las palabras desconocidas (1) y otro para el relleno al ajustar el tamaño de las cadenas (0). Por último, se codifican las categorías con un índice, por orden de aparición. En este caso se cuenta con 632 categrías diferentes.\n",
    "\n",
    "\n",
    "---\n",
    "\n"
   ]
  },
  {
   "cell_type": "code",
   "execution_count": 10,
   "id": "4t9bivBOwwHr",
   "metadata": {
    "id": "4t9bivBOwwHr"
   },
   "outputs": [],
   "source": [
    "#070\n",
    "es_stopwords = stopwords.words(\"spanish\")"
   ]
  },
  {
   "cell_type": "code",
   "execution_count": 11,
   "id": "d4c25b45",
   "metadata": {
    "id": "d4c25b45"
   },
   "outputs": [],
   "source": [
    "#080 Preprocesamiento\n",
    "class RawDataProcessor:\n",
    "    def __init__(self, \n",
    "                 dataset, \n",
    "                 ignore_header=True, \n",
    "                 filters=None, \n",
    "                 vocab_size=50000):\n",
    "        if filters:\n",
    "            self.filters = filters\n",
    "        else:\n",
    "            self.filters = [\n",
    "                lambda s: s.lower(),\n",
    "                preprocessing.strip_tags,\n",
    "                preprocessing.strip_punctuation,\n",
    "                preprocessing.strip_multiple_whitespaces,\n",
    "                preprocessing.strip_numeric,\n",
    "                preprocessing.remove_stopwords,\n",
    "                preprocessing.strip_short,\n",
    "            ]\n",
    "        \n",
    "        # Create dictionary based on all the reviews (with corresponding preprocessing)\n",
    "        # https://radimrehurek.com/gensim/corpora/dictionary.html\n",
    "        self.dictionary = corpora.Dictionary(\n",
    "            dataset[\"title\"].map(self._preprocess_string).tolist()\n",
    "        )\n",
    "\n",
    "         # Filter the dictionary with extremos words\n",
    "        self.dictionary.filter_extremes(no_below=2, no_above=1, keep_n=vocab_size)\n",
    "\n",
    "        # Filter the dictionary with extremos words\n",
    "        # https://tedboy.github.io/nlps/generated/generated/gensim.corpora.Dictionary.filter_extremes.html?highlight=filter_extrem\n",
    "        # self.dictionary.filter_extremes(no_below=2, no_above=1, keep_n=vocab_size)\n",
    "        \n",
    "        # Make the indices continuous after some words have been removed\n",
    "        # https://tedboy.github.io/nlps/generated/generated/gensim.corpora.Dictionary.compactify.html\n",
    "        self.dictionary.compactify()\n",
    "                \n",
    "        self.dictionary.patch_with_special_tokens({\n",
    "            \"[PAD]\": 0, #The padding token\n",
    "            \"[UNK]\": 1  # The unknown token\n",
    "        })\n",
    "\n",
    "        self.idx_to_target = sorted(dataset[\"category\"].unique())\n",
    "        self.target_to_idx = {t: i for i, t in enumerate(self.idx_to_target)}\n",
    "\n",
    "\n",
    "    def _preprocess_string(self, string):\n",
    "        # https://radimrehurek.com/gensim/parsing/preprocessing.html#gensim.parsing.preprocessing.preprocess_string:~:text=gensim.parsing.preprocessing.preprocess_string\n",
    "        return preprocessing.preprocess_string(string, filters=self.filters)\n",
    "\n",
    "    def _remove_stopwords(self, wdlist):\n",
    "        # incorporamos una funcion para extraer las stopwords en espanol\n",
    "        return [word for word in wdlist if word not in es_stopwords]\n",
    "\n",
    "    def _sentence_to_indices(self, sentence):\n",
    "      # https://radimrehurek.com/gensim/corpora/dictionary.html#:~:text=doc2idx(document,via%20unknown_word_index.\n",
    "        return self.dictionary.doc2idx(sentence, unknown_word_index=1)\n",
    "    \n",
    "    def encode_data(self, data):\n",
    "        return self._sentence_to_indices(self._remove_stopwords(self._preprocess_string(data)))\n",
    "    \n",
    "    def encode_target(self, target):\n",
    "        return self.target_to_idx[target]\n",
    "    \n",
    "    def __call__(self, item):\n",
    "        if isinstance(item[\"data\"], str):\n",
    "            data = self.encode_data(item[\"data\"])\n",
    "        else:\n",
    "            data = [self.encode_data(d) for d in item[\"data\"]]\n",
    "        \n",
    "        if isinstance(item[\"target\"], str):\n",
    "            target = self.encode_target(item[\"target\"])\n",
    "        else:\n",
    "            target = [self.encode_target(t) for t in item[\"target\"]]\n",
    "        \n",
    "        return {\n",
    "            \"data\": data,\n",
    "            \"target\": target\n",
    "        }"
   ]
  },
  {
   "cell_type": "code",
   "execution_count": 12,
   "id": "lsRkyjeWynmZ",
   "metadata": {
    "id": "lsRkyjeWynmZ"
   },
   "outputs": [],
   "source": [
    "#090 \n",
    "preprocess = RawDataProcessor(data_train_val)\n"
   ]
  },
  {
   "cell_type": "code",
   "execution_count": 13,
   "id": "8EbP7eKtyvy6",
   "metadata": {
    "id": "8EbP7eKtyvy6"
   },
   "outputs": [],
   "source": [
    "#100\n",
    "\n",
    "use_iterableDataset = False\n",
    "\n",
    "if use_iterableDataset:\n",
    "    train_dataset = MeLiChallengeiterDataset(\"./data/meli-challenge-2019/spanish.train.jsonl.gz\", transform=preprocess)\n",
    "    val_dataset = MeLiChallengeiterDataset(\"./data/meli-challenge-2019/spanish.validation.jsonl.gz\", transform=preprocess)\n",
    "else:\n",
    "    train_dataset = MeLiChallengeDataset(data_train_val[data_train_val.split == 'train'], transform=preprocess)\n",
    "    val_dataset = MeLiChallengeDataset(data_train_val[data_train_val.split == 'validation'], transform=preprocess)\n"
   ]
  },
  {
   "cell_type": "code",
   "execution_count": 14,
   "id": "37d4d47e",
   "metadata": {
    "id": "37d4d47e"
   },
   "outputs": [],
   "source": [
    "#110 Se creó una clase PadSequences para igualar el tamaño de los datos con los que será alimentada la red\n",
    "class PadSequences:\n",
    "    def __init__(self, pad_value=0, max_length=None, min_length=1):\n",
    "        assert max_length is None or min_length <= max_length\n",
    "        self.pad_value = pad_value\n",
    "        self.max_length = max_length\n",
    "        self.min_length = min_length\n",
    "\n",
    "    def __call__(self, items):\n",
    "        data, target = list(zip(*[(item[\"data\"], item[\"target\"]) for item in items]))\n",
    "        seq_lengths = [len(d) for d in data]\n",
    "\n",
    "        if self.max_length:\n",
    "            max_length = self.max_length\n",
    "            seq_lengths = [min(self.max_length, l) for l in seq_lengths]\n",
    "        else:\n",
    "            max_length = max(self.min_length, max(seq_lengths))\n",
    "\n",
    "        data = [d[:l] + [self.pad_value] * (max_length - l)\n",
    "                for d, l in zip(data, seq_lengths)]\n",
    "            \n",
    "        return {\n",
    "            \"data\": torch.LongTensor(data),\n",
    "            \"target\": torch.LongTensor(target)\n",
    "        }"
   ]
  },
  {
   "cell_type": "markdown",
   "id": "xPcI4tM89XoK",
   "metadata": {
    "id": "xPcI4tM89XoK"
   },
   "source": [
    "Como trabajamos con secuencias de palabras (representadas por sus índices en un vocabulario), cuando queremos buscar un batch de datos, el DataLoader de PyTorch espera que los datos del batch tengan la misma dimensión (para poder llevarlos todos a un tensor de dimensión fija).  Se define un módulo PadSequences que toma un valor mínimo, opcionalmente un valor máximo y un valor de relleno (pad) y dada una lista de secuencias, devuelve un tensor con padding sobre dichas secuencias."
   ]
  },
  {
   "cell_type": "markdown",
   "id": "BInUApHM9gLr",
   "metadata": {
    "id": "BInUApHM9gLr"
   },
   "source": [
    "Ya habiendo definido nuestros conjuntos de datos y nuestra PadSequences, podemos definir nuestros DataLoader, uno para entrenamiento y otro para evaluación. Ver que la diferencia fundamental está en shuffle, no queremos mezclar los valores de evaluación cada vez que evaluamos porque al evaluar mediante mini-batchs nos puede generar inconsistencias."
   ]
  },
  {
   "cell_type": "code",
   "execution_count": 15,
   "id": "387cba90",
   "metadata": {
    "id": "387cba90"
   },
   "outputs": [],
   "source": [
    "#120 se usaron los dataloaders de Pytorch para pasar los datos por lotes\n",
    "\n",
    "pad_sequences = PadSequences()\n",
    "batch_size = 128\n",
    "\n",
    "if use_iterableDataset:\n",
    "    train_loader = DataLoader(train_dataset, batch_size=batch_size, collate_fn=pad_sequences, drop_last=False)\n",
    "    val_loader = DataLoader(val_dataset, batch_size=batch_size, collate_fn=pad_sequences, drop_last=False)\n",
    "else:\n",
    "    train_loader = DataLoader(train_dataset, batch_size=batch_size, shuffle=True,\n",
    "                              collate_fn=pad_sequences, drop_last=False)\n",
    "    val_loader = DataLoader(val_dataset, batch_size=batch_size, shuffle=False,\n",
    "                             collate_fn=pad_sequences, drop_last=False)\n"
   ]
  },
  {
   "cell_type": "markdown",
   "id": "LqR4fHDz0USf",
   "metadata": {
    "id": "LqR4fHDz0USf"
   },
   "source": [
    "Modelo baseline\n",
    "Se diseñó un modelo simple con una capa de embeding, dos capas ocultas con función de activación relu y la capa de salida. La función de pérdida utilizada para todo el trabajo fue CrossEntropyLoss, apropiada para problemas de clasificación muticlase. Además, se optó por utiilizar Adam como algoritmo de optimización. Por una cuestión de capacidad de procesamiento todos los modelos fueron entrenados en 4 épocas"
   ]
  },
  {
   "cell_type": "code",
   "execution_count": 16,
   "id": "-Azn_tuj0m1Y",
   "metadata": {
    "id": "-Azn_tuj0m1Y"
   },
   "outputs": [],
   "source": [
    "#130 \n",
    "class MLPBaseTitleClassifier(nn.Module):\n",
    "    def __init__(self, \n",
    "                 pretrained_embeddings_path, \n",
    "                 dictionary,\n",
    "                 vector_size,\n",
    "                 freeze_embedings):\n",
    "        super().__init__()\n",
    "        embeddings_matrix = torch.randn(len(dictionary), vector_size)\n",
    "        embeddings_matrix[0] = torch.zeros(vector_size)\n",
    "        with bz2.open(pretrained_embeddings_path, \"rt\") as fh:\n",
    "            for line in fh:\n",
    "                word, vector = line.strip().split(None, 1)\n",
    "                if word in dictionary.token2id:\n",
    "                    embeddings_matrix[dictionary.token2id[word]] =\\\n",
    "                        torch.FloatTensor([float(n) for n in vector.split()])\n",
    "        self.embeddings = nn.Embedding.from_pretrained(embeddings_matrix,\n",
    "                                                       freeze=freeze_embedings,\n",
    "                                                       padding_idx=0)\n",
    "        self.hidden_layer1 = nn.Linear(vector_size, 256)\n",
    "        self.hidden_layer2 = nn.Linear(256, 1264)\n",
    "        self.output_layer = nn.Linear(1264, 632)\n",
    "        self.vector_size = vector_size\n",
    "    \n",
    "    def forward(self, x):\n",
    "        x = self.embeddings(x)\n",
    "        x = torch.mean(x, dim=1)\n",
    "        x = F.relu(self.hidden_layer1(x))\n",
    "        x = F.relu(self.hidden_layer2(x))\n",
    "        x = self.output_layer(x) # use of CrossEntropyLoss() equivalent to the combination of LogSoftmax and NLLLoss.\n",
    "        return x"
   ]
  },
  {
   "cell_type": "code",
   "execution_count": 17,
   "id": "aixEdrSy1AJK",
   "metadata": {
    "id": "aixEdrSy1AJK"
   },
   "outputs": [
    {
     "data": {
      "text/plain": [
       "device(type='cuda', index=0)"
      ]
     },
     "execution_count": 17,
     "metadata": {},
     "output_type": "execute_result"
    }
   ],
   "source": [
    "#140\n",
    "device = torch.device(\"cuda:0\" if torch.cuda.is_available() else \"cpu\")\n",
    "device"
   ]
  },
  {
   "cell_type": "code",
   "execution_count": 18,
   "id": "LWMm15gz0_8I",
   "metadata": {
    "id": "LWMm15gz0_8I"
   },
   "outputs": [
    {
     "data": {
      "application/vnd.jupyter.widget-view+json": {
       "model_id": "56eef354b91544c790984ed37572fc6f",
       "version_major": 2,
       "version_minor": 0
      },
      "text/plain": [
       "  0%|          | 0/5 [00:00<?, ?it/s]"
      ]
     },
     "metadata": {},
     "output_type": "display_data"
    },
    {
     "data": {
      "application/vnd.jupyter.widget-view+json": {
       "model_id": "d8a4f36256024ea3ad6fc4ec52fa01fb",
       "version_major": 2,
       "version_minor": 0
      },
      "text/plain": [
       "  0%|          | 0/3825 [00:00<?, ?it/s]"
      ]
     },
     "metadata": {},
     "output_type": "display_data"
    },
    {
     "data": {
      "application/vnd.jupyter.widget-view+json": {
       "model_id": "745d85b0872048c19f75044bd8cb6714",
       "version_major": 2,
       "version_minor": 0
      },
      "text/plain": [
       "  0%|          | 0/957 [00:00<?, ?it/s]"
      ]
     },
     "metadata": {},
     "output_type": "display_data"
    },
    {
     "name": "stdout",
     "output_type": "stream",
     "text": [
      "Epoch: 1 Balanced accuracy: 0.49338077561891114\n"
     ]
    },
    {
     "data": {
      "application/vnd.jupyter.widget-view+json": {
       "model_id": "6fe38f2e05f84f319b93e40f28680090",
       "version_major": 2,
       "version_minor": 0
      },
      "text/plain": [
       "  0%|          | 0/3825 [00:00<?, ?it/s]"
      ]
     },
     "metadata": {},
     "output_type": "display_data"
    },
    {
     "data": {
      "application/vnd.jupyter.widget-view+json": {
       "model_id": "13c9418d42404235a9bc81c66a47c25b",
       "version_major": 2,
       "version_minor": 0
      },
      "text/plain": [
       "  0%|          | 0/957 [00:00<?, ?it/s]"
      ]
     },
     "metadata": {},
     "output_type": "display_data"
    },
    {
     "name": "stdout",
     "output_type": "stream",
     "text": [
      "Epoch: 2 Balanced accuracy: 0.5815275315111349\n"
     ]
    },
    {
     "data": {
      "application/vnd.jupyter.widget-view+json": {
       "model_id": "331d40463ec140ab94ca72aab4021b30",
       "version_major": 2,
       "version_minor": 0
      },
      "text/plain": [
       "  0%|          | 0/3825 [00:00<?, ?it/s]"
      ]
     },
     "metadata": {},
     "output_type": "display_data"
    },
    {
     "data": {
      "application/vnd.jupyter.widget-view+json": {
       "model_id": "a49c4242a6414cfbb163ff602fd32e3f",
       "version_major": 2,
       "version_minor": 0
      },
      "text/plain": [
       "  0%|          | 0/957 [00:00<?, ?it/s]"
      ]
     },
     "metadata": {},
     "output_type": "display_data"
    },
    {
     "name": "stdout",
     "output_type": "stream",
     "text": [
      "Epoch: 3 Balanced accuracy: 0.6179914076079343\n"
     ]
    },
    {
     "data": {
      "application/vnd.jupyter.widget-view+json": {
       "model_id": "fc95b4a3464846b19e6fed7dc758eb13",
       "version_major": 2,
       "version_minor": 0
      },
      "text/plain": [
       "  0%|          | 0/3825 [00:00<?, ?it/s]"
      ]
     },
     "metadata": {},
     "output_type": "display_data"
    },
    {
     "data": {
      "application/vnd.jupyter.widget-view+json": {
       "model_id": "f7d336f4d77d42ce89c128c6b967182c",
       "version_major": 2,
       "version_minor": 0
      },
      "text/plain": [
       "  0%|          | 0/957 [00:00<?, ?it/s]"
      ]
     },
     "metadata": {},
     "output_type": "display_data"
    },
    {
     "name": "stdout",
     "output_type": "stream",
     "text": [
      "Epoch: 4 Balanced accuracy: 0.643333488011365\n"
     ]
    },
    {
     "data": {
      "application/vnd.jupyter.widget-view+json": {
       "model_id": "60567ae717654a9ea053b686a52dfd91",
       "version_major": 2,
       "version_minor": 0
      },
      "text/plain": [
       "  0%|          | 0/3825 [00:00<?, ?it/s]"
      ]
     },
     "metadata": {},
     "output_type": "display_data"
    },
    {
     "data": {
      "application/vnd.jupyter.widget-view+json": {
       "model_id": "a169f0d0e89847198b055951782e2629",
       "version_major": 2,
       "version_minor": 0
      },
      "text/plain": [
       "  0%|          | 0/957 [00:00<?, ?it/s]"
      ]
     },
     "metadata": {},
     "output_type": "display_data"
    },
    {
     "name": "stdout",
     "output_type": "stream",
     "text": [
      "Epoch: 5 Balanced accuracy: 0.6562527173434473\n"
     ]
    }
   ],
   "source": [
    "#150\n",
    "\n",
    "EPOCHS = 5\n",
    "BATCHES_t = (int(train_size/batch_size) + (train_size % batch_size>0))\n",
    "BATCHES_v = (int(validation_size/batch_size) + (validation_size % batch_size>0))\n",
    "\n",
    "model = MLPBaseTitleClassifier(pretrained_embeddings_path='./data/SBW-vectors-300-min5.txt.bz2',\n",
    "                        dictionary=preprocess.dictionary,\n",
    "                        vector_size=300,\n",
    "                        freeze_embedings=True)\n",
    "\n",
    "\n",
    "\n",
    "loss_function = nn.CrossEntropyLoss()\n",
    "optimizer = optim.Adam(model.parameters(), lr=1e-3, weight_decay=1e-5)\n",
    "\n",
    "for epoch in trange(EPOCHS):\n",
    "    model.to(device)\n",
    "    model.train()\n",
    "    running_loss = 0.0\n",
    "    pbar = tqdm(train_loader, total=BATCHES_t)\n",
    "    for idx, batch in enumerate(pbar):\n",
    "        data = batch[\"data\"].to(device)\n",
    "        target = batch[\"target\"].to(device)\n",
    "        optimizer.zero_grad()\n",
    "        output = model(data)\n",
    "        loss_value = loss_function(output, target)\n",
    "        loss_value.backward()\n",
    "        optimizer.step()\n",
    "        running_loss += loss_value.item()\n",
    "        if idx > 0 and idx % 50 == 0:    # print every 50 mini-batches\n",
    "            pbar.set_description(f\"[Train {epoch + 1}, {idx}] loss: {running_loss / 50:.4g}\")\n",
    "            running_loss = 0.0\n",
    "\n",
    "    model.eval()\n",
    "    targets = []\n",
    "    predictions = []\n",
    "    running_loss = 0\n",
    "    pbar = tqdm(val_loader, total=BATCHES_v)\n",
    "    with torch.no_grad():\n",
    "        for idx, batch in enumerate(pbar):\n",
    "            # get the input\n",
    "            data = batch[\"data\"].to(device)\n",
    "            target = batch[\"target\"].to(device)  \n",
    "            output = model(data)\n",
    "            loss_value = loss_function(output, target)\n",
    "            targets.extend(target.cpu().numpy())\n",
    "            predictions.extend(output.argmax(axis=1).detach().cpu().numpy())\n",
    "            running_loss += loss_value.item()\n",
    "            if idx > 0 and idx % 50 == 0:    # print every 50 mini-batches\n",
    "                pbar.set_description(f\"[Validation {epoch + 1}, {idx}] loss: {running_loss / 50:.4g}\")\n",
    "                running_loss = 0.0\n",
    "        metric = balanced_accuracy_score(targets, predictions)\n",
    "        \n",
    "    print(f'Epoch: {epoch + 1} Balanced accuracy: {metric}')\n",
    "    "
   ]
  },
  {
   "cell_type": "markdown",
   "id": "uRbTDykq1V4R",
   "metadata": {
    "id": "uRbTDykq1V4R"
   },
   "source": [
    "Ajuste de Hiperparametros"
   ]
  },
  {
   "cell_type": "code",
   "execution_count": 19,
   "id": "oBeELq1I0_cx",
   "metadata": {
    "id": "oBeELq1I0_cx"
   },
   "outputs": [],
   "source": [
    "#ajuste de hiperparametros\n",
    "class MLPTitleClassifier(nn.Module):\n",
    "    def __init__(self, \n",
    "                 pretrained_embeddings_path, \n",
    "                 dictionary,\n",
    "                 vector_size,\n",
    "                 freeze_embedings,\n",
    "                 activation_fn,\n",
    "                 neurons_h1,\n",
    "                 neurons_h2,\n",
    "                 p_dropout):\n",
    "        super().__init__()\n",
    "        embeddings_matrix = torch.randn(len(dictionary), vector_size)\n",
    "        embeddings_matrix[0] = torch.zeros(vector_size)\n",
    "        with bz2.open(pretrained_embeddings_path, \"rt\") as fh:\n",
    "            for line in fh:\n",
    "                word, vector = line.strip().split(None, 1)\n",
    "                if word in dictionary.token2id:\n",
    "                    embeddings_matrix[dictionary.token2id[word]] =\\\n",
    "                        torch.FloatTensor([float(n) for n in vector.split()])\n",
    "        self.embeddings = nn.Embedding.from_pretrained(embeddings_matrix,\n",
    "                                                       freeze=freeze_embedings,\n",
    "                                                       padding_idx=0)\n",
    "        self.hidden_layer1 = nn.Linear(vector_size, neurons_h1)\n",
    "        self.hidden_layer1_dp = nn.Dropout(p=p_dropout)\n",
    "        self.hidden_layer2 = nn.Linear(neurons_h1, neurons_h2)\n",
    "        self.hidden_layer2_dp = nn.Dropout(p=p_dropout)\n",
    "        self.output_layer = nn.Linear(neurons_h2, 632)\n",
    "        self.vector_size = vector_size\n",
    "        self.activation_fn = activation_fn\n",
    "    \n",
    "    def forward(self, x):\n",
    "        x = self.embeddings(x)\n",
    "        x = torch.mean(x, dim=1)\n",
    "        x = self.activation_fn(self.hidden_layer1(x))\n",
    "        if self.training:\n",
    "            x = self.hidden_layer1_dp(x)\n",
    "        x = self.activation_fn(self.hidden_layer2(x))\n",
    "        if self.training:\n",
    "            x = self.hidden_layer2_dp(x)\n",
    "        x = self.output_layer(x) # use of CrossEntropyLoss() equivalent to the combination of LogSoftmax and NLLLoss.\n",
    "        return x"
   ]
  },
  {
   "cell_type": "markdown",
   "id": "dDBYgT_hls40",
   "metadata": {
    "id": "dDBYgT_hls40"
   },
   "source": [
    "## Experimento de MLflow - MyMLP\n",
    "\n",
    "Para el mismo se propone una red con tres capas."
   ]
  },
  {
   "cell_type": "code",
   "execution_count": 20,
   "id": "xhOuZDqE11or",
   "metadata": {
    "id": "xhOuZDqE11or"
   },
   "outputs": [],
   "source": [
    "def train_eval(neurons_h1, neurons_h2, p_dropout, activation_fn, opt, lr, wd, epochs, save_model):\n",
    "    EPOCHS = epochs\n",
    "    BATCHES_t = (int(train_size/batch_size) + (train_size % batch_size>0))\n",
    "    BATCHES_v = (int(validation_size/batch_size) + (validation_size % batch_size>0))\n",
    "\n",
    "    mlflow.set_experiment(\"Experiment_02_MLP\")\n",
    "    \n",
    "    with mlflow.start_run():\n",
    "        model = MLPTitleClassifier(pretrained_embeddings_path='./data/SBW-vectors-300-min5.txt.bz2',\n",
    "                                dictionary=preprocess.dictionary,\n",
    "                                vector_size=300,\n",
    "                                freeze_embedings=True,\n",
    "                                activation_fn=activation_fn,\n",
    "                                neurons_h1=neurons_h1,\n",
    "                                neurons_h2=neurons_h2,\n",
    "                                p_dropout=p_dropout)\n",
    "\n",
    "        loss_function = nn.CrossEntropyLoss()\n",
    "        optimizer = opt(model.parameters(), lr=lr, weight_decay=wd)\n",
    "\n",
    "        mlflow.log_params({\n",
    "            \"model_name\": \"mlp\",\n",
    "            \"model\": model,\n",
    "            \"freeze_embedding\": True,\n",
    "            \"embedding_size\": 300,\n",
    "            \"neurons_hlayer1\": neurons_h1,\n",
    "            \"neurons_hlayer2\": neurons_h2,\n",
    "            \"Dropout\": p_dropout,\n",
    "            \"activation_function\": activation_fn,\n",
    "            \"optimizer\": optimizer,            \n",
    "            \"learning_rate\": lr,\n",
    "            \"weight_decay\": wd,\n",
    "        })\n",
    "\n",
    "        for epoch in trange(EPOCHS):\n",
    "            model.to(device)\n",
    "            model.train()\n",
    "            running_loss = 0.0\n",
    "            running_loss_flow = []\n",
    "            targets = []######\n",
    "            predictions = []######\n",
    "            pbar = tqdm(train_loader, total=BATCHES_t)\n",
    "            for idx, batch in enumerate(pbar):\n",
    "                data = batch[\"data\"].to(device)\n",
    "                target = batch[\"target\"].to(device)\n",
    "                optimizer.zero_grad()\n",
    "                output = model(data)\n",
    "                loss_value = loss_function(output, target)\n",
    "                loss_value.backward()\n",
    "                optimizer.step()\n",
    "                running_loss += loss_value.item()\n",
    "                running_loss_flow.append(loss_value.item())\n",
    "                targets.extend(target.cpu().numpy())######\n",
    "                predictions.extend(output.argmax(axis=1).detach().cpu().numpy())######\n",
    "                if idx > 0 and idx % 50 == 0:    # print every 50 mini-batches\n",
    "                    pbar.set_description(f\"[Train {epoch + 1}, {idx}] loss: {running_loss / 50:.4g}\")\n",
    "                    running_loss = 0.0\n",
    "            mlflow.log_metric(\"train_loss\", sum(running_loss_flow) / len(running_loss_flow), epoch + 1)\n",
    "            metric = balanced_accuracy_score(targets, predictions)######\n",
    "            mlflow.log_metric(\"train_balanced_acc\", metric, epoch + 1)######\n",
    "            \n",
    "            model.eval()\n",
    "            targets = []\n",
    "            predictions = []\n",
    "            running_loss = 0\n",
    "            running_loss_flow = []\n",
    "            pbar = tqdm(val_loader, total=BATCHES_v)\n",
    "            with torch.no_grad():\n",
    "                for idx, batch in enumerate(pbar):\n",
    "                    data = batch[\"data\"].to(device)\n",
    "                    target = batch[\"target\"].to(device)  \n",
    "                    output = model(data)\n",
    "                    loss_value = loss_function(output, target)\n",
    "                    targets.extend(target.cpu().numpy())\n",
    "                    predictions.extend(output.argmax(axis=1).detach().cpu().numpy())\n",
    "                    running_loss += loss_value.item()\n",
    "                    running_loss_flow.append(loss_value.item())\n",
    "                    if idx > 0 and idx % 50 == 0:    # print every 50 mini-batches\n",
    "                        pbar.set_description(f\"[Validation {epoch + 1}, {idx}] loss: {running_loss / 50:.4g}\")\n",
    "                        running_loss = 0.0\n",
    "                mlflow.log_metric(\"val_loss\", sum(running_loss_flow) / len(running_loss_flow), epoch + 1)\n",
    "                metric = balanced_accuracy_score(targets, predictions)\n",
    "                mlflow.log_metric(\"val_balanced_acc\", metric, epoch + 1)\n",
    "\n",
    "            print(f'Epoch: {epoch + 1} Balanced accuracy: {metric}')\n",
    "\n",
    "        ahora = dt.now().strftime('%Y-%m-%d_%H-%M-%S')\n",
    "        nombre_archivo = 'predictions_' + ahora + '.csv.gz'\n",
    "        with tempfile.TemporaryDirectory() as tmpdirname:\n",
    "            targets = []\n",
    "            predictions = []\n",
    "            for batch in pbar:\n",
    "                data = batch[\"data\"].to(device)\n",
    "                target = batch[\"target\"].to(device)  \n",
    "                output = model(data)\n",
    "                targets.extend(target.cpu().numpy())\n",
    "                predictions.extend(output.argmax(axis=1).detach().cpu().numpy())\n",
    "            pd.DataFrame({\"prediction\": predictions, \"target\": targets}).to_csv(\n",
    "                f\"{tmpdirname}/{nombre_archivo}\", index=False\n",
    "            )\n",
    "            mlflow.log_artifact(f\"{tmpdirname}/{nombre_archivo}\")\n",
    "    if save_model:\n",
    "        # se guarda el modelo entrenado\n",
    "        path_archivo = './data/MLPTitleClassifier_' + ahora + '.pth'\n",
    "        torch.save(model.state_dict(), path_archivo)"
   ]
  },
  {
   "cell_type": "markdown",
   "id": "nWg2SUS0qovE",
   "metadata": {
    "id": "nWg2SUS0qovE"
   },
   "source": [
    "####Curva Loss"
   ]
  },
  {
   "attachments": {
    "Train-Val-loss%20-%2008-11-22.JPG": {
     "image/jpeg": "[encoded data removed]"
    }
   },
   "cell_type": "markdown",
   "id": "429cb2dc",
   "metadata": {},
   "source": [
    "![Train-Val-loss%20-%2008-11-22.JPG](attachment:Train-Val-loss%20-%2008-11-22.JPG)"
   ]
  },
  {
   "cell_type": "markdown",
   "id": "4nMEJqSnquTf",
   "metadata": {
    "id": "4nMEJqSnquTf"
   },
   "source": [
    "####Curva metrica (Balanced Accuracy)\n"
   ]
  },
  {
   "attachments": {
    "Train-Val_balanced_acc%2008-11-22.JPG": {
     "image/jpeg": "[encoded data removed]"
    }
   },
   "cell_type": "markdown",
   "id": "f2787b84",
   "metadata": {},
   "source": [
    "![Train-Val_balanced_acc%2008-11-22.JPG](attachment:Train-Val_balanced_acc%2008-11-22.JPG)"
   ]
  },
  {
   "cell_type": "code",
   "execution_count": 21,
   "id": "PRvplOp3THuj",
   "metadata": {
    "id": "PRvplOp3THuj"
   },
   "outputs": [
    {
     "name": "stderr",
     "output_type": "stream",
     "text": [
      "/tmp/ipykernel_3815061/2849051080.py:2: FutureWarning: ``mlflow.tracking.client.MlflowClient.list_experiments`` is deprecated. This method will be removed in a future release. Use ``search_experiments()`` instead.\n",
      "  mlflow.tracking.MlflowClient().list_experiments()\n"
     ]
    },
    {
     "data": {
      "text/plain": [
       "[<Experiment: artifact_location='file:///users/wgremoliche/AprendizajeProfundo/mlruns/0', creation_time=1666739553990, experiment_id='0', last_update_time=1666739553990, lifecycle_stage='active', name='Default', tags={}>,\n",
       " <Experiment: artifact_location='file:///users/wgremoliche/AprendizajeProfundo/mlruns/3', creation_time=1667159760835, experiment_id='3', last_update_time=1667159760835, lifecycle_stage='active', name='Experiment_02_MLP', tags={}>]"
      ]
     },
     "execution_count": 21,
     "metadata": {},
     "output_type": "execute_result"
    }
   ],
   "source": [
    "#180\n",
    "mlflow.tracking.MlflowClient().list_experiments()"
   ]
  },
  {
   "cell_type": "code",
   "execution_count": 22,
   "id": "LuRAiPi8UCzi",
   "metadata": {
    "id": "LuRAiPi8UCzi"
   },
   "outputs": [
    {
     "data": {
      "text/html": [
       "<div>\n",
       "<style scoped>\n",
       "    .dataframe tbody tr th:only-of-type {\n",
       "        vertical-align: middle;\n",
       "    }\n",
       "\n",
       "    .dataframe tbody tr th {\n",
       "        vertical-align: top;\n",
       "    }\n",
       "\n",
       "    .dataframe thead th {\n",
       "        text-align: right;\n",
       "    }\n",
       "</style>\n",
       "<table border=\"1\" class=\"dataframe\">\n",
       "  <thead>\n",
       "    <tr style=\"text-align: right;\">\n",
       "      <th></th>\n",
       "      <th>run_id</th>\n",
       "      <th>experiment_id</th>\n",
       "      <th>status</th>\n",
       "      <th>artifact_uri</th>\n",
       "      <th>start_time</th>\n",
       "      <th>end_time</th>\n",
       "    </tr>\n",
       "  </thead>\n",
       "  <tbody>\n",
       "  </tbody>\n",
       "</table>\n",
       "</div>"
      ],
      "text/plain": [
       "Empty DataFrame\n",
       "Columns: [run_id, experiment_id, status, artifact_uri, start_time, end_time]\n",
       "Index: []"
      ]
     },
     "execution_count": 22,
     "metadata": {},
     "output_type": "execute_result"
    }
   ],
   "source": [
    "#190\n",
    "mlflow.search_runs().head(5)"
   ]
  },
  {
   "cell_type": "code",
   "execution_count": 23,
   "id": "Uc-pzy4AUScC",
   "metadata": {
    "id": "Uc-pzy4AUScC"
   },
   "outputs": [
    {
     "data": {
      "text/plain": [
       "pandas.core.frame.DataFrame"
      ]
     },
     "execution_count": 23,
     "metadata": {},
     "output_type": "execute_result"
    }
   ],
   "source": [
    "#200\n",
    "type(mlflow.search_runs())"
   ]
  },
  {
   "cell_type": "code",
   "execution_count": 24,
   "id": "1d79868d",
   "metadata": {
    "id": "1d79868d"
   },
   "outputs": [
    {
     "data": {
      "text/plain": [
       "device(type='cuda', index=0)"
      ]
     },
     "execution_count": 24,
     "metadata": {},
     "output_type": "execute_result"
    }
   ],
   "source": [
    "device = torch.device(\"cuda:0\" if torch.cuda.is_available() else \"cpu\")\n",
    "device"
   ]
  },
  {
   "cell_type": "code",
   "execution_count": 25,
   "id": "6d5914fc",
   "metadata": {
    "id": "6d5914fc"
   },
   "outputs": [
    {
     "data": {
      "application/vnd.jupyter.widget-view+json": {
       "model_id": "f2c74704e9264b30a2e1380e58c7361e",
       "version_major": 2,
       "version_minor": 0
      },
      "text/plain": [
       "  0%|          | 0/5 [00:00<?, ?it/s]"
      ]
     },
     "metadata": {},
     "output_type": "display_data"
    },
    {
     "data": {
      "application/vnd.jupyter.widget-view+json": {
       "model_id": "87916a07736b4637a2f41070a5140097",
       "version_major": 2,
       "version_minor": 0
      },
      "text/plain": [
       "  0%|          | 0/3825 [00:00<?, ?it/s]"
      ]
     },
     "metadata": {},
     "output_type": "display_data"
    },
    {
     "data": {
      "application/vnd.jupyter.widget-view+json": {
       "model_id": "71a8a9fc8aa74f5380921829fab83697",
       "version_major": 2,
       "version_minor": 0
      },
      "text/plain": [
       "  0%|          | 0/957 [00:00<?, ?it/s]"
      ]
     },
     "metadata": {},
     "output_type": "display_data"
    },
    {
     "name": "stdout",
     "output_type": "stream",
     "text": [
      "Epoch: 1 Balanced accuracy: 0.4618676851823151\n"
     ]
    },
    {
     "data": {
      "application/vnd.jupyter.widget-view+json": {
       "model_id": "c92a1c78cac84fca8a0c885cde5b2982",
       "version_major": 2,
       "version_minor": 0
      },
      "text/plain": [
       "  0%|          | 0/3825 [00:00<?, ?it/s]"
      ]
     },
     "metadata": {},
     "output_type": "display_data"
    },
    {
     "data": {
      "application/vnd.jupyter.widget-view+json": {
       "model_id": "18bfd940b7a343588875e36e379eacae",
       "version_major": 2,
       "version_minor": 0
      },
      "text/plain": [
       "  0%|          | 0/957 [00:00<?, ?it/s]"
      ]
     },
     "metadata": {},
     "output_type": "display_data"
    },
    {
     "name": "stdout",
     "output_type": "stream",
     "text": [
      "Epoch: 2 Balanced accuracy: 0.5634182678240666\n"
     ]
    },
    {
     "data": {
      "application/vnd.jupyter.widget-view+json": {
       "model_id": "ba0f0cccd173429d89ac567da5bfb5ab",
       "version_major": 2,
       "version_minor": 0
      },
      "text/plain": [
       "  0%|          | 0/3825 [00:00<?, ?it/s]"
      ]
     },
     "metadata": {},
     "output_type": "display_data"
    },
    {
     "data": {
      "application/vnd.jupyter.widget-view+json": {
       "model_id": "ee109923f5ea4965b5755e7ea75a8004",
       "version_major": 2,
       "version_minor": 0
      },
      "text/plain": [
       "  0%|          | 0/957 [00:00<?, ?it/s]"
      ]
     },
     "metadata": {},
     "output_type": "display_data"
    },
    {
     "name": "stdout",
     "output_type": "stream",
     "text": [
      "Epoch: 3 Balanced accuracy: 0.6096712927734723\n"
     ]
    },
    {
     "data": {
      "application/vnd.jupyter.widget-view+json": {
       "model_id": "29966887f49a4900a9d2a55c36363767",
       "version_major": 2,
       "version_minor": 0
      },
      "text/plain": [
       "  0%|          | 0/3825 [00:00<?, ?it/s]"
      ]
     },
     "metadata": {},
     "output_type": "display_data"
    },
    {
     "data": {
      "application/vnd.jupyter.widget-view+json": {
       "model_id": "7d00504bb1184986b007664f415691fd",
       "version_major": 2,
       "version_minor": 0
      },
      "text/plain": [
       "  0%|          | 0/957 [00:00<?, ?it/s]"
      ]
     },
     "metadata": {},
     "output_type": "display_data"
    },
    {
     "name": "stdout",
     "output_type": "stream",
     "text": [
      "Epoch: 4 Balanced accuracy: 0.6284543548868435\n"
     ]
    },
    {
     "data": {
      "application/vnd.jupyter.widget-view+json": {
       "model_id": "8d3962492f8c40d185ace32fd8436c9c",
       "version_major": 2,
       "version_minor": 0
      },
      "text/plain": [
       "  0%|          | 0/3825 [00:00<?, ?it/s]"
      ]
     },
     "metadata": {},
     "output_type": "display_data"
    },
    {
     "data": {
      "application/vnd.jupyter.widget-view+json": {
       "model_id": "382b6b259ebf446c955722fb132a9987",
       "version_major": 2,
       "version_minor": 0
      },
      "text/plain": [
       "  0%|          | 0/957 [00:00<?, ?it/s]"
      ]
     },
     "metadata": {},
     "output_type": "display_data"
    },
    {
     "name": "stdout",
     "output_type": "stream",
     "text": [
      "Epoch: 5 Balanced accuracy: 0.6462477069822385\n"
     ]
    }
   ],
   "source": [
    "train_eval(neurons_h1=256, neurons_h2=1264,\n",
    "           p_dropout=0.1, activation_fn=F.relu,\n",
    "           opt=optim.Adam, lr=0.001, wd=0.00001,\n",
    "           epochs=5, save_model=True)"
   ]
  },
  {
   "cell_type": "markdown",
   "id": "3003d218",
   "metadata": {
    "id": "3003d218"
   },
   "source": [
    "Predicciones sobre el set TEST\n",
    "El conjunto test fue sometido al mismo preprocesamiento utilizado en las etapadas anteriores, teniendo en consideración que el diccionario es el formado a partir de los conjuntos de entrenamiento y evaluación porque el conjunto de prueba son datos \"nuevos\" que se presentan al modelo."
   ]
  },
  {
   "cell_type": "code",
   "execution_count": 26,
   "id": "8eedb18d",
   "metadata": {
    "id": "8eedb18d"
   },
   "outputs": [],
   "source": [
    "model = MLPTitleClassifier(pretrained_embeddings_path='./data/SBW-vectors-300-min5.txt.bz2',\n",
    "                        dictionary=preprocess.dictionary,\n",
    "                        vector_size=300,\n",
    "                        freeze_embedings=True,\n",
    "                        activation_fn=F.relu,\n",
    "                        neurons_h1=256,\n",
    "                        neurons_h2=1264,\n",
    "                        p_dropout=0.1)"
   ]
  },
  {
   "cell_type": "code",
   "execution_count": 27,
   "id": "43a7d017",
   "metadata": {
    "id": "43a7d017"
   },
   "outputs": [
    {
     "data": {
      "text/plain": [
       "<All keys matched successfully>"
      ]
     },
     "execution_count": 27,
     "metadata": {},
     "output_type": "execute_result"
    }
   ],
   "source": [
    "#model.load_state_dict(torch.load('./data/MLPTitleClassifier_2022-10-22_16-47-03.pth'))\n",
    "#model.load_state_dict(torch.load('./data/MLPTitleClassifier_2022-11-04_07-27-54.pth'))\n",
    "model.load_state_dict(torch.load('./data/MLPTitleClassifier_2022-11-08_07-12-32.pth'))\n"
   ]
  },
  {
   "cell_type": "code",
   "execution_count": 28,
   "id": "465c6b3b",
   "metadata": {
    "id": "465c6b3b"
   },
   "outputs": [],
   "source": [
    "df_test = pd.read_json(f\"./data/meli-challenge-2019/spanish.test.jsonl.gz\", lines=True)\n",
    "test_size = len(df_test)\n",
    "batch_size = 128\n",
    "pad_sequences = PadSequences()\n",
    "test_dataset = MeLiChallengeDataset(df_test, transform=preprocess)\n",
    "test_loader = DataLoader(test_dataset, batch_size=batch_size, collate_fn=pad_sequences, drop_last=False)"
   ]
  },
  {
   "cell_type": "markdown",
   "id": "c0a90d15",
   "metadata": {
    "id": "c0a90d15"
   },
   "source": [
    "Predicciones"
   ]
  },
  {
   "cell_type": "code",
   "execution_count": 29,
   "id": "fdd03d78",
   "metadata": {
    "id": "fdd03d78"
   },
   "outputs": [
    {
     "data": {
      "text/plain": [
       "device(type='cuda', index=0)"
      ]
     },
     "execution_count": 29,
     "metadata": {},
     "output_type": "execute_result"
    }
   ],
   "source": [
    "device = torch.device(\"cuda:0\" if torch.cuda.is_available() else \"cpu\")\n",
    "device"
   ]
  },
  {
   "cell_type": "code",
   "execution_count": 31,
   "id": "e1d8da11",
   "metadata": {
    "id": "e1d8da11"
   },
   "outputs": [
    {
     "data": {
      "application/vnd.jupyter.widget-view+json": {
       "model_id": "9df8ad49bf594fe6927a979d3fe80c10",
       "version_major": 2,
       "version_minor": 0
      },
      "text/plain": [
       "  0%|          | 0/498 [00:00<?, ?it/s]"
      ]
     },
     "metadata": {},
     "output_type": "display_data"
    },
    {
     "name": "stdout",
     "output_type": "stream",
     "text": [
      "Balanced accuracy TEST set: 0.7012129243413573\n"
     ]
    }
   ],
   "source": [
    "\n",
    "    \n",
    "    \n",
    "    \n",
    "BATCHES_test = (int(test_size/batch_size) + (test_size % batch_size>0))\n",
    "model.to(device)\n",
    "model.eval()\n",
    "targets = []\n",
    "predictions = []\n",
    "pbar = tqdm(test_loader, total=BATCHES_test)\n",
    "with torch.no_grad():\n",
    "    for idx, batch in enumerate(pbar):\n",
    "        data = batch[\"data\"].to(device)\n",
    "        target = batch[\"target\"].to(device)  \n",
    "        output = model(data)\n",
    "        targets.extend(target.cpu().numpy())\n",
    "        predictions.extend(output.argmax(axis=1).detach().cpu().numpy())\n",
    "    metric = balanced_accuracy_score(targets, predictions)\n",
    "\n",
    "print(f'Balanced accuracy TEST set: {metric}')"
   ]
  },
  {
   "cell_type": "markdown",
   "id": "mtQ4e-WwqlJe",
   "metadata": {
    "id": "mtQ4e-WwqlJe"
   },
   "source": [
    "##PARTE 2: CNN\n",
    "\n",
    "En esta seccion se presentan dos modelos con Redes Neuronales Convolucionales"
   ]
  },
  {
   "cell_type": "markdown",
   "id": "zl89tqsLpp9C",
   "metadata": {
    "id": "zl89tqsLpp9C"
   },
   "source": [
    "\n",
    "\n"
   ]
  },
  {
   "cell_type": "markdown",
   "id": "AgKDTy-isSBB",
   "metadata": {
    "id": "AgKDTy-isSBB"
   },
   "source": []
  },
  {
   "cell_type": "markdown",
   "id": "soGD3sdzsSBC",
   "metadata": {
    "id": "soGD3sdzsSBC"
   },
   "source": [
    "\n"
   ]
  },
  {
   "cell_type": "code",
   "execution_count": null,
   "id": "16a1f13b",
   "metadata": {
    "id": "16a1f13b"
   },
   "outputs": [],
   "source": []
  },
  {
   "cell_type": "code",
   "execution_count": null,
   "id": "e737ec5d",
   "metadata": {
    "id": "e737ec5d"
   },
   "outputs": [],
   "source": []
  }
 ],
 "metadata": {
  "colab": {
   "collapsed_sections": [],
   "provenance": []
  },
  "gpuClass": "standard",
  "kernelspec": {
   "display_name": "Python 3 (ipykernel)",
   "language": "python",
   "name": "python3"
  },
  "language_info": {
   "codemirror_mode": {
    "name": "ipython",
    "version": 3
   },
   "file_extension": ".py",
   "mimetype": "text/x-python",
   "name": "python",
   "nbconvert_exporter": "python",
   "pygments_lexer": "ipython3",
   "version": "3.9.5"
  }
 },
 "nbformat": 4,
 "nbformat_minor": 5
}
